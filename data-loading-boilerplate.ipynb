{
 "cells": [
  {
   "cell_type": "code",
   "execution_count": 1,
   "id": "impaired-governor",
   "metadata": {},
   "outputs": [],
   "source": [
    "from dataset import *"
   ]
  },
  {
   "cell_type": "code",
   "execution_count": 2,
   "id": "coupled-hollow",
   "metadata": {},
   "outputs": [],
   "source": [
    "def get_answer_type_distribution(data_dict):\n",
    "    answer_types={}\n",
    "    for data in data_dict:\n",
    "        if data[\"answer_type\"] in answer_types:\n",
    "            answer_types[data[\"answer_type\"]]+=1\n",
    "        else:\n",
    "            answer_types[data[\"answer_type\"]]=1\n",
    "    return answer_types"
   ]
  },
  {
   "cell_type": "code",
   "execution_count": 3,
   "id": "judicial-ideal",
   "metadata": {},
   "outputs": [],
   "source": [
    "def get_question_type_distribution(data_dict):\n",
    "    question_types={}\n",
    "    for data in data_dict:\n",
    "        if data[\"question_type\"] in question_types:\n",
    "            question_types[data[\"question_type\"]]+=1\n",
    "        else:\n",
    "            question_types[data[\"question_type\"]]=1\n",
    "    return question_types"
   ]
  },
  {
   "cell_type": "code",
   "execution_count": 4,
   "id": "split-motorcycle",
   "metadata": {},
   "outputs": [
    {
     "name": "stdout",
     "output_type": "stream",
     "text": [
      "train answer-type distribution\n",
      "{'other': 9887, 'yes/no': 9806, 'number': 62}\n",
      "val answer-type distribution\n",
      "{'other': 3123, 'yes/no': 3135, 'number': 21}\n",
      "test answer-type distribution\n",
      "{'other': 3352, 'yes/no': 3391, 'number': 18}\n"
     ]
    }
   ],
   "source": [
    "for mode in [\"train\",\"val\",\"test\"]:\n",
    "    print(mode+\" answer-type distribution\")\n",
    "    data_dict = get_data_dictionary(mode)\n",
    "    print(get_answer_type_distribution(data_dict))"
   ]
  },
  {
   "cell_type": "code",
   "execution_count": null,
   "id": "raising-scanner",
   "metadata": {},
   "outputs": [],
   "source": []
  }
 ],
 "metadata": {
  "kernelspec": {
   "display_name": "Python 3",
   "language": "python",
   "name": "python3"
  },
  "language_info": {
   "codemirror_mode": {
    "name": "ipython",
    "version": 3
   },
   "file_extension": ".py",
   "mimetype": "text/x-python",
   "name": "python",
   "nbconvert_exporter": "python",
   "pygments_lexer": "ipython3",
   "version": "3.9.7"
  }
 },
 "nbformat": 4,
 "nbformat_minor": 5
}
